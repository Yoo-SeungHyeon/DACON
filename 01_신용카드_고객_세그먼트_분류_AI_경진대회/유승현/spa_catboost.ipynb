{
 "cells": [
  {
   "cell_type": "markdown",
   "id": "a1dac7c7",
   "metadata": {},
   "source": [
    "# SPA + CatBoost + Class Weights"
   ]
  },
  {
   "cell_type": "code",
   "execution_count": null,
   "id": "569f67cd",
   "metadata": {},
   "outputs": [],
   "source": [
    "# %pip install pandas numpy scikit-learn catboost"
   ]
  },
  {
   "cell_type": "markdown",
   "id": "0c8bc446",
   "metadata": {},
   "source": [
    "## 0. 데이터셋 생성"
   ]
  },
  {
   "cell_type": "code",
   "execution_count": null,
   "id": "8e3d41f5",
   "metadata": {},
   "outputs": [],
   "source": [
    "import pandas as pd\n",
    "\n",
    "# CSV 파일 불러오기 (첫 열이 인덱스로 저장되어 있을 경우)\n",
    "df1 = pd.read_csv('../data/numeric_train.csv', index_col=0)\n",
    "# df2 = pd.read_csv('../data/all_test.csv', index_col=0)\n",
    "\n",
    "# 인덱스 열 제거된 상태로 다시 저장\n",
    "# df1.to_csv('../data/all_train.csv', index=False)\n",
    "# df2.to_csv('../data/all_test.csv', index=False)"
   ]
  },
  {
   "cell_type": "markdown",
   "id": "836297b4",
   "metadata": {},
   "source": [
    "## 1. 수치형 데이터 분리 및 차원 축소 (SPA 이용)"
   ]
  },
  {
   "cell_type": "code",
   "execution_count": null,
   "id": "3fc9a852",
   "metadata": {},
   "outputs": [],
   "source": [
    "from sklearn.decomposition import PCA\n",
    "\n",
    "numeric_cols = df1.select_dtypes(include='number').columns\n",
    "numeric_data = df1[numeric_cols]\n",
    "\n",
    "# 예시: PCA로 95% 설명하는 주성분 수 자동 설정\n",
    "pca = PCA(n_components=0.95, random_state=42)\n",
    "reduced_numeric = pca.fit_transform(numeric_data)\n",
    "reduced_numeric_df = pd.DataFrame(reduced_numeric, columns=[f'pca_{i}' for i in range(reduced_numeric.shape[1])])"
   ]
  },
  {
   "cell_type": "markdown",
   "id": "537df5fb",
   "metadata": {},
   "source": [
    "## 2. 범주형 데이터 처리"
   ]
  },
  {
   "cell_type": "code",
   "execution_count": null,
   "id": "fb53f441",
   "metadata": {},
   "outputs": [],
   "source": [
    "categorical_cols = df1.select_dtypes(include='object').columns.tolist()\n",
    "categorical_data = df1[categorical_cols]\n"
   ]
  },
  {
   "cell_type": "markdown",
   "id": "eaa9ba67",
   "metadata": {},
   "source": [
    "## 3. 축소된 수치형 + 범주형 데이터 합치기"
   ]
  },
  {
   "cell_type": "code",
   "execution_count": null,
   "id": "dbede82f",
   "metadata": {},
   "outputs": [],
   "source": [
    "X = pd.concat([reduced_numeric_df, categorical_data], axis=1)\n",
    "y = df1['target']\n"
   ]
  },
  {
   "cell_type": "markdown",
   "id": "55753644",
   "metadata": {},
   "source": [
    "## 4. 불균형 대응 (가중치 적용)"
   ]
  },
  {
   "cell_type": "code",
   "execution_count": null,
   "id": "c81ba1fc",
   "metadata": {},
   "outputs": [],
   "source": [
    "from catboost import CatBoostClassifier\n",
    "from sklearn.utils.class_weight import compute_class_weight\n",
    "import numpy as np\n",
    "\n",
    "classes = np.unique(y)\n",
    "weights = compute_class_weight('balanced', classes=classes, y=y)\n",
    "class_weights = dict(zip(classes, weights))\n"
   ]
  },
  {
   "cell_type": "markdown",
   "id": "f7960fcb",
   "metadata": {},
   "source": [
    "## 5. 모델 학습 및 평가"
   ]
  },
  {
   "cell_type": "code",
   "execution_count": null,
   "id": "057c3da9",
   "metadata": {},
   "outputs": [],
   "source": [
    "from sklearn.model_selection import StratifiedKFold\n",
    "from sklearn.metrics import f1_score\n",
    "\n",
    "skf = StratifiedKFold(n_splits=5, shuffle=True, random_state=42)\n",
    "f1_scores = []\n",
    "\n",
    "for train_idx, val_idx in skf.split(X, y):\n",
    "    X_train, X_val = X.iloc[train_idx], X.iloc[val_idx]\n",
    "    y_train, y_val = y.iloc[train_idx], y.iloc[val_idx]\n",
    "\n",
    "    model = CatBoostClassifier(\n",
    "        iterations=1000,\n",
    "        learning_rate=0.03,\n",
    "        depth=6,\n",
    "        eval_metric='F1',\n",
    "        cat_features=categorical_cols,\n",
    "        class_weights=class_weights,\n",
    "        verbose=0,\n",
    "        random_seed=42,\n",
    "        early_stopping_rounds=50\n",
    "    )\n",
    "\n",
    "    model.fit(X_train, y_train, eval_set=(X_val, y_val))\n",
    "    preds = model.predict(X_val)\n",
    "    score = f1_score(y_val, preds, average='macro')\n",
    "    f1_scores.append(score)\n",
    "\n",
    "print(\"평균 Macro F1 Score:\", np.mean(f1_scores))\n"
   ]
  },
  {
   "cell_type": "code",
   "execution_count": null,
   "id": "41d26dc2",
   "metadata": {},
   "outputs": [],
   "source": []
  }
 ],
 "metadata": {
  "kernelspec": {
   "display_name": "Python 3",
   "language": "python",
   "name": "python3"
  },
  "language_info": {
   "codemirror_mode": {
    "name": "ipython",
    "version": 3
   },
   "file_extension": ".py",
   "mimetype": "text/x-python",
   "name": "python",
   "nbconvert_exporter": "python",
   "pygments_lexer": "ipython3",
   "version": "3.9.13"
  }
 },
 "nbformat": 4,
 "nbformat_minor": 5
}
