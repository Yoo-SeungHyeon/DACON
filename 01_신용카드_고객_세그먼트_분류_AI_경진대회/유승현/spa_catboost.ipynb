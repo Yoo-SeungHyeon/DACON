{
 "cells": [
  {
   "cell_type": "markdown",
   "id": "a1dac7c7",
   "metadata": {},
   "source": [
    "# SPA + CatBoost + Class Weights"
   ]
  },
  {
   "cell_type": "code",
   "execution_count": 2,
   "id": "569f67cd",
   "metadata": {},
   "outputs": [
    {
     "name": "stdout",
     "output_type": "stream",
     "text": [
      "Requirement already satisfied: pandas in c:\\users\\ssafy\\desktop\\personal\\dacon\\.venv\\lib\\site-packages (2.2.3)\n",
      "Requirement already satisfied: numpy in c:\\users\\ssafy\\desktop\\personal\\dacon\\.venv\\lib\\site-packages (1.26.4)\n",
      "Requirement already satisfied: scikit-learn in c:\\users\\ssafy\\desktop\\personal\\dacon\\.venv\\lib\\site-packages (1.6.1)\n",
      "Requirement already satisfied: catboost in c:\\users\\ssafy\\desktop\\personal\\dacon\\.venv\\lib\\site-packages (1.2.7)\n",
      "Requirement already satisfied: python-dateutil>=2.8.2 in c:\\users\\ssafy\\desktop\\personal\\dacon\\.venv\\lib\\site-packages (from pandas) (2.9.0.post0)\n",
      "Requirement already satisfied: pytz>=2020.1 in c:\\users\\ssafy\\desktop\\personal\\dacon\\.venv\\lib\\site-packages (from pandas) (2025.1)\n",
      "Requirement already satisfied: tzdata>=2022.7 in c:\\users\\ssafy\\desktop\\personal\\dacon\\.venv\\lib\\site-packages (from pandas) (2025.2)\n",
      "Requirement already satisfied: scipy>=1.6.0 in c:\\users\\ssafy\\desktop\\personal\\dacon\\.venv\\lib\\site-packages (from scikit-learn) (1.13.1)\n",
      "Requirement already satisfied: joblib>=1.2.0 in c:\\users\\ssafy\\desktop\\personal\\dacon\\.venv\\lib\\site-packages (from scikit-learn) (1.4.2)\n",
      "Requirement already satisfied: threadpoolctl>=3.1.0 in c:\\users\\ssafy\\desktop\\personal\\dacon\\.venv\\lib\\site-packages (from scikit-learn) (3.6.0)\n",
      "Requirement already satisfied: graphviz in c:\\users\\ssafy\\desktop\\personal\\dacon\\.venv\\lib\\site-packages (from catboost) (0.20.3)\n",
      "Requirement already satisfied: matplotlib in c:\\users\\ssafy\\desktop\\personal\\dacon\\.venv\\lib\\site-packages (from catboost) (3.9.4)\n",
      "Requirement already satisfied: plotly in c:\\users\\ssafy\\desktop\\personal\\dacon\\.venv\\lib\\site-packages (from catboost) (6.0.1)\n",
      "Requirement already satisfied: six in c:\\users\\ssafy\\desktop\\personal\\dacon\\.venv\\lib\\site-packages (from catboost) (1.17.0)\n",
      "Requirement already satisfied: contourpy>=1.0.1 in c:\\users\\ssafy\\desktop\\personal\\dacon\\.venv\\lib\\site-packages (from matplotlib->catboost) (1.3.0)\n",
      "Requirement already satisfied: cycler>=0.10 in c:\\users\\ssafy\\desktop\\personal\\dacon\\.venv\\lib\\site-packages (from matplotlib->catboost) (0.12.1)\n",
      "Requirement already satisfied: fonttools>=4.22.0 in c:\\users\\ssafy\\desktop\\personal\\dacon\\.venv\\lib\\site-packages (from matplotlib->catboost) (4.57.0)\n",
      "Requirement already satisfied: kiwisolver>=1.3.1 in c:\\users\\ssafy\\desktop\\personal\\dacon\\.venv\\lib\\site-packages (from matplotlib->catboost) (1.4.7)\n",
      "Requirement already satisfied: packaging>=20.0 in c:\\users\\ssafy\\desktop\\personal\\dacon\\.venv\\lib\\site-packages (from matplotlib->catboost) (24.2)\n",
      "Requirement already satisfied: pillow>=8 in c:\\users\\ssafy\\desktop\\personal\\dacon\\.venv\\lib\\site-packages (from matplotlib->catboost) (11.1.0)\n",
      "Requirement already satisfied: pyparsing>=2.3.1 in c:\\users\\ssafy\\desktop\\personal\\dacon\\.venv\\lib\\site-packages (from matplotlib->catboost) (3.2.3)\n",
      "Requirement already satisfied: importlib-resources>=3.2.0 in c:\\users\\ssafy\\desktop\\personal\\dacon\\.venv\\lib\\site-packages (from matplotlib->catboost) (6.5.2)\n",
      "Requirement already satisfied: narwhals>=1.15.1 in c:\\users\\ssafy\\desktop\\personal\\dacon\\.venv\\lib\\site-packages (from plotly->catboost) (1.34.0)\n",
      "Requirement already satisfied: zipp>=3.1.0 in c:\\users\\ssafy\\desktop\\personal\\dacon\\.venv\\lib\\site-packages (from importlib-resources>=3.2.0->matplotlib->catboost) (3.21.0)\n",
      "Note: you may need to restart the kernel to use updated packages.\n"
     ]
    }
   ],
   "source": [
    "%pip install pandas numpy scikit-learn catboost"
   ]
  },
  {
   "cell_type": "markdown",
   "id": "0c8bc446",
   "metadata": {},
   "source": [
    "## 0. 데이터셋 생성"
   ]
  },
  {
   "cell_type": "code",
   "execution_count": 3,
   "id": "8e3d41f5",
   "metadata": {},
   "outputs": [
    {
     "name": "stderr",
     "output_type": "stream",
     "text": [
      "C:\\Users\\SSAFY\\AppData\\Local\\Temp\\ipykernel_18932\\1854967960.py:4: DtypeWarning: Columns (300,385) have mixed types. Specify dtype option on import or set low_memory=False.\n",
      "  df1 = pd.read_csv('../data/all_train.csv', index_col=0)\n"
     ]
    }
   ],
   "source": [
    "import pandas as pd\n",
    "\n",
    "# CSV 파일 불러오기 (첫 열이 인덱스로 저장되어 있을 경우)\n",
    "df1 = pd.read_csv('../data/all_train.csv', index_col=0)\n",
    "# df2 = pd.read_csv('../data/all_test.csv', index_col=0)\n",
    "\n",
    "# 인덱스 열 제거된 상태로 다시 저장\n",
    "# df1.to_csv('../data/all_train.csv', index=False)\n",
    "# df2.to_csv('../data/all_test.csv', index=False)"
   ]
  },
  {
   "cell_type": "code",
   "execution_count": 4,
   "id": "818ddc41",
   "metadata": {},
   "outputs": [
    {
     "data": {
      "text/html": [
       "<div>\n",
       "<style scoped>\n",
       "    .dataframe tbody tr th:only-of-type {\n",
       "        vertical-align: middle;\n",
       "    }\n",
       "\n",
       "    .dataframe tbody tr th {\n",
       "        vertical-align: top;\n",
       "    }\n",
       "\n",
       "    .dataframe thead th {\n",
       "        text-align: right;\n",
       "    }\n",
       "</style>\n",
       "<table border=\"1\" class=\"dataframe\">\n",
       "  <thead>\n",
       "    <tr style=\"text-align: right;\">\n",
       "      <th></th>\n",
       "      <th>기준년월</th>\n",
       "      <th>ID</th>\n",
       "      <th>남녀구분코드</th>\n",
       "      <th>연령</th>\n",
       "      <th>Segment</th>\n",
       "      <th>회원여부_이용가능</th>\n",
       "      <th>회원여부_이용가능_CA</th>\n",
       "      <th>회원여부_이용가능_카드론</th>\n",
       "      <th>소지여부_신용</th>\n",
       "      <th>소지카드수_유효_신용</th>\n",
       "      <th>...</th>\n",
       "      <th>변동률_RV일시불평잔</th>\n",
       "      <th>변동률_할부평잔</th>\n",
       "      <th>변동률_CA평잔</th>\n",
       "      <th>변동률_RVCA평잔</th>\n",
       "      <th>변동률_카드론평잔</th>\n",
       "      <th>변동률_잔액_B1M</th>\n",
       "      <th>변동률_잔액_일시불_B1M</th>\n",
       "      <th>변동률_잔액_CA_B1M</th>\n",
       "      <th>혜택수혜율_R3M</th>\n",
       "      <th>혜택수혜율_B0M</th>\n",
       "    </tr>\n",
       "  </thead>\n",
       "  <tbody>\n",
       "    <tr>\n",
       "      <th>0</th>\n",
       "      <td>201807</td>\n",
       "      <td>TRAIN_000000</td>\n",
       "      <td>2</td>\n",
       "      <td>40대</td>\n",
       "      <td>D</td>\n",
       "      <td>1</td>\n",
       "      <td>1</td>\n",
       "      <td>0</td>\n",
       "      <td>1</td>\n",
       "      <td>1</td>\n",
       "      <td>...</td>\n",
       "      <td>0.999998</td>\n",
       "      <td>1.042805</td>\n",
       "      <td>0.999700</td>\n",
       "      <td>0.999998</td>\n",
       "      <td>0.999998</td>\n",
       "      <td>0.261886</td>\n",
       "      <td>0.270752</td>\n",
       "      <td>0.000000</td>\n",
       "      <td>1.044401</td>\n",
       "      <td>1.280543</td>\n",
       "    </tr>\n",
       "    <tr>\n",
       "      <th>1</th>\n",
       "      <td>201807</td>\n",
       "      <td>TRAIN_000001</td>\n",
       "      <td>1</td>\n",
       "      <td>30대</td>\n",
       "      <td>E</td>\n",
       "      <td>1</td>\n",
       "      <td>1</td>\n",
       "      <td>1</td>\n",
       "      <td>1</td>\n",
       "      <td>1</td>\n",
       "      <td>...</td>\n",
       "      <td>1.092698</td>\n",
       "      <td>0.905663</td>\n",
       "      <td>0.999998</td>\n",
       "      <td>0.999998</td>\n",
       "      <td>0.999998</td>\n",
       "      <td>-0.563388</td>\n",
       "      <td>-0.670348</td>\n",
       "      <td>0.000000</td>\n",
       "      <td>0.000000</td>\n",
       "      <td>0.000000</td>\n",
       "    </tr>\n",
       "    <tr>\n",
       "      <th>2</th>\n",
       "      <td>201807</td>\n",
       "      <td>TRAIN_000002</td>\n",
       "      <td>1</td>\n",
       "      <td>30대</td>\n",
       "      <td>C</td>\n",
       "      <td>1</td>\n",
       "      <td>1</td>\n",
       "      <td>0</td>\n",
       "      <td>1</td>\n",
       "      <td>1</td>\n",
       "      <td>...</td>\n",
       "      <td>1.006124</td>\n",
       "      <td>1.993590</td>\n",
       "      <td>0.852567</td>\n",
       "      <td>0.999998</td>\n",
       "      <td>0.999998</td>\n",
       "      <td>-0.046516</td>\n",
       "      <td>0.058114</td>\n",
       "      <td>-0.014191</td>\n",
       "      <td>0.524159</td>\n",
       "      <td>1.208420</td>\n",
       "    </tr>\n",
       "    <tr>\n",
       "      <th>3</th>\n",
       "      <td>201807</td>\n",
       "      <td>TRAIN_000003</td>\n",
       "      <td>2</td>\n",
       "      <td>40대</td>\n",
       "      <td>D</td>\n",
       "      <td>1</td>\n",
       "      <td>1</td>\n",
       "      <td>0</td>\n",
       "      <td>1</td>\n",
       "      <td>2</td>\n",
       "      <td>...</td>\n",
       "      <td>0.999998</td>\n",
       "      <td>1.050646</td>\n",
       "      <td>0.999877</td>\n",
       "      <td>0.999998</td>\n",
       "      <td>0.999998</td>\n",
       "      <td>0.023821</td>\n",
       "      <td>0.258943</td>\n",
       "      <td>0.000000</td>\n",
       "      <td>0.880925</td>\n",
       "      <td>1.657124</td>\n",
       "    </tr>\n",
       "    <tr>\n",
       "      <th>4</th>\n",
       "      <td>201807</td>\n",
       "      <td>TRAIN_000004</td>\n",
       "      <td>2</td>\n",
       "      <td>40대</td>\n",
       "      <td>E</td>\n",
       "      <td>1</td>\n",
       "      <td>1</td>\n",
       "      <td>1</td>\n",
       "      <td>1</td>\n",
       "      <td>1</td>\n",
       "      <td>...</td>\n",
       "      <td>0.999998</td>\n",
       "      <td>0.999998</td>\n",
       "      <td>0.999998</td>\n",
       "      <td>0.999998</td>\n",
       "      <td>0.999998</td>\n",
       "      <td>0.000000</td>\n",
       "      <td>0.000000</td>\n",
       "      <td>0.000000</td>\n",
       "      <td>NaN</td>\n",
       "      <td>NaN</td>\n",
       "    </tr>\n",
       "  </tbody>\n",
       "</table>\n",
       "<p>5 rows × 858 columns</p>\n",
       "</div>"
      ],
      "text/plain": [
       "     기준년월            ID  남녀구분코드   연령 Segment  회원여부_이용가능  회원여부_이용가능_CA  \\\n",
       "0  201807  TRAIN_000000       2  40대       D          1             1   \n",
       "1  201807  TRAIN_000001       1  30대       E          1             1   \n",
       "2  201807  TRAIN_000002       1  30대       C          1             1   \n",
       "3  201807  TRAIN_000003       2  40대       D          1             1   \n",
       "4  201807  TRAIN_000004       2  40대       E          1             1   \n",
       "\n",
       "   회원여부_이용가능_카드론  소지여부_신용  소지카드수_유효_신용  ...  변동률_RV일시불평잔  변동률_할부평잔  변동률_CA평잔  \\\n",
       "0              0        1            1  ...     0.999998  1.042805  0.999700   \n",
       "1              1        1            1  ...     1.092698  0.905663  0.999998   \n",
       "2              0        1            1  ...     1.006124  1.993590  0.852567   \n",
       "3              0        1            2  ...     0.999998  1.050646  0.999877   \n",
       "4              1        1            1  ...     0.999998  0.999998  0.999998   \n",
       "\n",
       "   변동률_RVCA평잔  변동률_카드론평잔  변동률_잔액_B1M  변동률_잔액_일시불_B1M  변동률_잔액_CA_B1M  \\\n",
       "0    0.999998   0.999998    0.261886        0.270752       0.000000   \n",
       "1    0.999998   0.999998   -0.563388       -0.670348       0.000000   \n",
       "2    0.999998   0.999998   -0.046516        0.058114      -0.014191   \n",
       "3    0.999998   0.999998    0.023821        0.258943       0.000000   \n",
       "4    0.999998   0.999998    0.000000        0.000000       0.000000   \n",
       "\n",
       "   혜택수혜율_R3M  혜택수혜율_B0M  \n",
       "0   1.044401   1.280543  \n",
       "1   0.000000   0.000000  \n",
       "2   0.524159   1.208420  \n",
       "3   0.880925   1.657124  \n",
       "4        NaN        NaN  \n",
       "\n",
       "[5 rows x 858 columns]"
      ]
     },
     "execution_count": 4,
     "metadata": {},
     "output_type": "execute_result"
    }
   ],
   "source": [
    "df1.head()"
   ]
  },
  {
   "cell_type": "markdown",
   "id": "836297b4",
   "metadata": {},
   "source": [
    "## 1. 수치형 데이터 분리 및 차원 축소 (SPA 이용)"
   ]
  },
  {
   "cell_type": "code",
   "execution_count": 6,
   "id": "3fc9a852",
   "metadata": {},
   "outputs": [],
   "source": [
    "from sklearn.decomposition import PCA\n",
    "from sklearn.impute import SimpleImputer\n",
    "import pandas as pd\n",
    "\n",
    "# 숫자형 컬럼만 선택\n",
    "numeric_cols = df1.select_dtypes(include='number').columns\n",
    "numeric_data = df1[numeric_cols]\n",
    "\n",
    "# 결측치를 0으로 대체\n",
    "imputer = SimpleImputer(strategy='constant', fill_value=0)\n",
    "numeric_data_imputed = imputer.fit_transform(numeric_data)\n",
    "\n",
    "# PCA로 95% 설명하는 주성분 수 자동 설정\n",
    "pca = PCA(n_components=0.95, random_state=42)\n",
    "reduced_numeric = pca.fit_transform(numeric_data_imputed)\n",
    "\n",
    "# 결과를 DataFrame으로 변환\n",
    "reduced_numeric_df = pd.DataFrame(reduced_numeric, columns=[f'pca_{i}' for i in range(reduced_numeric.shape[1])])"
   ]
  },
  {
   "cell_type": "code",
   "execution_count": 7,
   "id": "29e1cd91",
   "metadata": {},
   "outputs": [
    {
     "data": {
      "text/plain": [
       "(2400000, 4)"
      ]
     },
     "execution_count": 7,
     "metadata": {},
     "output_type": "execute_result"
    }
   ],
   "source": [
    "reduced_numeric_df.shape"
   ]
  },
  {
   "cell_type": "code",
   "execution_count": 8,
   "id": "ad3931ef",
   "metadata": {},
   "outputs": [
    {
     "data": {
      "text/html": [
       "<div>\n",
       "<style scoped>\n",
       "    .dataframe tbody tr th:only-of-type {\n",
       "        vertical-align: middle;\n",
       "    }\n",
       "\n",
       "    .dataframe tbody tr th {\n",
       "        vertical-align: top;\n",
       "    }\n",
       "\n",
       "    .dataframe thead th {\n",
       "        text-align: right;\n",
       "    }\n",
       "</style>\n",
       "<table border=\"1\" class=\"dataframe\">\n",
       "  <thead>\n",
       "    <tr style=\"text-align: right;\">\n",
       "      <th></th>\n",
       "      <th>pca_0</th>\n",
       "      <th>pca_1</th>\n",
       "      <th>pca_2</th>\n",
       "      <th>pca_3</th>\n",
       "    </tr>\n",
       "  </thead>\n",
       "  <tbody>\n",
       "    <tr>\n",
       "      <th>0</th>\n",
       "      <td>1.842279e+07</td>\n",
       "      <td>1.058260e+07</td>\n",
       "      <td>1.421832e+07</td>\n",
       "      <td>3.070852e+06</td>\n",
       "    </tr>\n",
       "    <tr>\n",
       "      <th>1</th>\n",
       "      <td>-8.467380e+07</td>\n",
       "      <td>1.868302e+07</td>\n",
       "      <td>-1.362704e+07</td>\n",
       "      <td>-3.517066e+06</td>\n",
       "    </tr>\n",
       "    <tr>\n",
       "      <th>2</th>\n",
       "      <td>-8.485928e+07</td>\n",
       "      <td>2.209088e+07</td>\n",
       "      <td>4.979183e+06</td>\n",
       "      <td>-1.014677e+07</td>\n",
       "    </tr>\n",
       "    <tr>\n",
       "      <th>3</th>\n",
       "      <td>1.842313e+07</td>\n",
       "      <td>1.057625e+07</td>\n",
       "      <td>1.418225e+07</td>\n",
       "      <td>3.083927e+06</td>\n",
       "    </tr>\n",
       "    <tr>\n",
       "      <th>4</th>\n",
       "      <td>1.986619e+07</td>\n",
       "      <td>-8.914273e+06</td>\n",
       "      <td>1.121196e+07</td>\n",
       "      <td>-1.244255e+07</td>\n",
       "    </tr>\n",
       "  </tbody>\n",
       "</table>\n",
       "</div>"
      ],
      "text/plain": [
       "          pca_0         pca_1         pca_2         pca_3\n",
       "0  1.842279e+07  1.058260e+07  1.421832e+07  3.070852e+06\n",
       "1 -8.467380e+07  1.868302e+07 -1.362704e+07 -3.517066e+06\n",
       "2 -8.485928e+07  2.209088e+07  4.979183e+06 -1.014677e+07\n",
       "3  1.842313e+07  1.057625e+07  1.418225e+07  3.083927e+06\n",
       "4  1.986619e+07 -8.914273e+06  1.121196e+07 -1.244255e+07"
      ]
     },
     "execution_count": 8,
     "metadata": {},
     "output_type": "execute_result"
    }
   ],
   "source": [
    "reduced_numeric_df.head()"
   ]
  },
  {
   "cell_type": "code",
   "execution_count": 9,
   "id": "98b82f8a",
   "metadata": {},
   "outputs": [
    {
     "name": "stdout",
     "output_type": "stream",
     "text": [
      "Requirement already satisfied: joblib in c:\\users\\ssafy\\desktop\\personal\\dacon\\.venv\\lib\\site-packages (1.4.2)\n",
      "Note: you may need to restart the kernel to use updated packages.\n"
     ]
    }
   ],
   "source": [
    "%pip install joblib"
   ]
  },
  {
   "cell_type": "code",
   "execution_count": 10,
   "id": "4bdaf55d",
   "metadata": {},
   "outputs": [],
   "source": [
    "import joblib\n",
    "\n",
    "# imputer와 pca 객체 저장\n",
    "joblib.dump(imputer, 'imputer.pkl')\n",
    "joblib.dump(pca, 'pca.pkl')\n",
    "\n",
    "# reduced_numeric_df도 필요시 저장\n",
    "reduced_numeric_df.to_csv('train_pca_transformed.csv', index=False)"
   ]
  },
  {
   "cell_type": "code",
   "execution_count": 12,
   "id": "73e9f1b4",
   "metadata": {},
   "outputs": [],
   "source": [
    "# #  추후 테스트에 사용할 코드\n",
    "# import pandas as pd\n",
    "# import joblib\n",
    "\n",
    "# # test 데이터 로드\n",
    "# test_df = pd.read_csv('test.csv')\n",
    "\n",
    "# # 숫자형 컬럼만 추출\n",
    "# numeric_cols = test_df.select_dtypes(include='number').columns\n",
    "# numeric_test_data = test_df[numeric_cols]\n",
    "\n",
    "# # 저장한 imputer 및 pca 불러오기\n",
    "# imputer = joblib.load('imputer.pkl')\n",
    "# pca = joblib.load('pca.pkl')\n",
    "\n",
    "# # 동일하게 결측치 처리 후 PCA 적용\n",
    "# numeric_test_imputed = imputer.transform(numeric_test_data)\n",
    "# reduced_test = pca.transform(numeric_test_imputed)\n",
    "\n",
    "# # DataFrame으로 변환\n",
    "# reduced_test_df = pd.DataFrame(reduced_test, columns=[f'pca_{i}' for i in range(reduced_test.shape[1])])\n",
    "# reduced_test_df.to_csv('test_pca_transformed.csv', index=False)\n"
   ]
  },
  {
   "cell_type": "markdown",
   "id": "537df5fb",
   "metadata": {},
   "source": [
    "## 2. 범주형 데이터 처리"
   ]
  },
  {
   "cell_type": "code",
   "execution_count": null,
   "id": "fb53f441",
   "metadata": {},
   "outputs": [],
   "source": [
    "# object 타입 컬럼만 선택\n",
    "categorical_cols = df1.select_dtypes(include='object').columns.tolist()\n",
    "\n",
    "# 결측치를 문자열 'nan'으로 대체\n",
    "df1[categorical_cols] = df1[categorical_cols].fillna('nan').astype(str)\n"
   ]
  },
  {
   "cell_type": "code",
   "execution_count": 21,
   "id": "28602849",
   "metadata": {},
   "outputs": [],
   "source": [
    "categorical_data = df1[categorical_cols]\n"
   ]
  },
  {
   "cell_type": "markdown",
   "id": "eaa9ba67",
   "metadata": {},
   "source": [
    "## 3. 축소된 수치형 + 범주형 데이터 합치기"
   ]
  },
  {
   "cell_type": "code",
   "execution_count": null,
   "id": "dbede82f",
   "metadata": {},
   "outputs": [],
   "source": [
    "X = pd.concat([reduced_numeric_df, categorical_data], axis=1)\n",
    "y = df1['Segment']"
   ]
  },
  {
   "cell_type": "code",
   "execution_count": 27,
   "id": "e42842e7",
   "metadata": {},
   "outputs": [],
   "source": [
    "# 최종 데이터프레임 생성\n",
    "final_df = pd.concat([X, y], axis=1)\n",
    "\n",
    "# CSV로 저장\n",
    "final_df.to_csv('PCA_Data.csv', index=False)"
   ]
  },
  {
   "cell_type": "markdown",
   "id": "55753644",
   "metadata": {},
   "source": [
    "## 4. 불균형 대응 (가중치 적용)"
   ]
  },
  {
   "cell_type": "code",
   "execution_count": 23,
   "id": "c81ba1fc",
   "metadata": {},
   "outputs": [],
   "source": [
    "from catboost import CatBoostClassifier\n",
    "from sklearn.utils.class_weight import compute_class_weight\n",
    "import numpy as np\n",
    "\n",
    "classes = np.unique(y)\n",
    "weights = compute_class_weight('balanced', classes=classes, y=y)\n",
    "class_weights = dict(zip(classes, weights))\n"
   ]
  },
  {
   "cell_type": "code",
   "execution_count": 24,
   "id": "e761bbdb",
   "metadata": {},
   "outputs": [
    {
     "data": {
      "text/plain": [
       "(2400000, 54)"
      ]
     },
     "execution_count": 24,
     "metadata": {},
     "output_type": "execute_result"
    }
   ],
   "source": [
    "X.shape"
   ]
  },
  {
   "cell_type": "markdown",
   "id": "f7960fcb",
   "metadata": {},
   "source": [
    "## 5. 모델 학습 및 평가"
   ]
  },
  {
   "cell_type": "code",
   "execution_count": 26,
   "id": "057c3da9",
   "metadata": {},
   "outputs": [
    {
     "ename": "KeyboardInterrupt",
     "evalue": "",
     "output_type": "error",
     "traceback": [
      "\u001b[1;31m---------------------------------------------------------------------------\u001b[0m",
      "\u001b[1;31mKeyboardInterrupt\u001b[0m                         Traceback (most recent call last)",
      "Cell \u001b[1;32mIn[26], line 24\u001b[0m\n\u001b[0;32m      9\u001b[0m y_train, y_val \u001b[38;5;241m=\u001b[39m y\u001b[38;5;241m.\u001b[39miloc[train_idx], y\u001b[38;5;241m.\u001b[39miloc[val_idx]\n\u001b[0;32m     11\u001b[0m model \u001b[38;5;241m=\u001b[39m CatBoostClassifier(\n\u001b[0;32m     12\u001b[0m     iterations\u001b[38;5;241m=\u001b[39m\u001b[38;5;241m1000\u001b[39m,\n\u001b[0;32m     13\u001b[0m     learning_rate\u001b[38;5;241m=\u001b[39m\u001b[38;5;241m0.03\u001b[39m,\n\u001b[1;32m   (...)\u001b[0m\n\u001b[0;32m     21\u001b[0m     early_stopping_rounds\u001b[38;5;241m=\u001b[39m\u001b[38;5;241m50\u001b[39m\n\u001b[0;32m     22\u001b[0m )\n\u001b[1;32m---> 24\u001b[0m \u001b[43mmodel\u001b[49m\u001b[38;5;241;43m.\u001b[39;49m\u001b[43mfit\u001b[49m\u001b[43m(\u001b[49m\u001b[43mX_train\u001b[49m\u001b[43m,\u001b[49m\u001b[43m \u001b[49m\u001b[43my_train\u001b[49m\u001b[43m,\u001b[49m\u001b[43m \u001b[49m\u001b[43meval_set\u001b[49m\u001b[38;5;241;43m=\u001b[39;49m\u001b[43m(\u001b[49m\u001b[43mX_val\u001b[49m\u001b[43m,\u001b[49m\u001b[43m \u001b[49m\u001b[43my_val\u001b[49m\u001b[43m)\u001b[49m\u001b[43m)\u001b[49m\n\u001b[0;32m     25\u001b[0m preds \u001b[38;5;241m=\u001b[39m model\u001b[38;5;241m.\u001b[39mpredict(X_val)\n\u001b[0;32m     26\u001b[0m score \u001b[38;5;241m=\u001b[39m f1_score(y_val, preds, average\u001b[38;5;241m=\u001b[39m\u001b[38;5;124m'\u001b[39m\u001b[38;5;124mmacro\u001b[39m\u001b[38;5;124m'\u001b[39m)\n",
      "File \u001b[1;32mc:\\Users\\SSAFY\\Desktop\\personal\\DACON\\.venv\\lib\\site-packages\\catboost\\core.py:5245\u001b[0m, in \u001b[0;36mCatBoostClassifier.fit\u001b[1;34m(self, X, y, cat_features, text_features, embedding_features, graph, sample_weight, baseline, use_best_model, eval_set, verbose, logging_level, plot, plot_file, column_description, verbose_eval, metric_period, silent, early_stopping_rounds, save_snapshot, snapshot_file, snapshot_interval, init_model, callbacks, log_cout, log_cerr)\u001b[0m\n\u001b[0;32m   5242\u001b[0m \u001b[38;5;28;01mif\u001b[39;00m \u001b[38;5;124m'\u001b[39m\u001b[38;5;124mloss_function\u001b[39m\u001b[38;5;124m'\u001b[39m \u001b[38;5;129;01min\u001b[39;00m params:\n\u001b[0;32m   5243\u001b[0m     CatBoostClassifier\u001b[38;5;241m.\u001b[39m_check_is_compatible_loss(params[\u001b[38;5;124m'\u001b[39m\u001b[38;5;124mloss_function\u001b[39m\u001b[38;5;124m'\u001b[39m])\n\u001b[1;32m-> 5245\u001b[0m \u001b[38;5;28;43mself\u001b[39;49m\u001b[38;5;241;43m.\u001b[39;49m\u001b[43m_fit\u001b[49m\u001b[43m(\u001b[49m\u001b[43mX\u001b[49m\u001b[43m,\u001b[49m\u001b[43m \u001b[49m\u001b[43my\u001b[49m\u001b[43m,\u001b[49m\u001b[43m \u001b[49m\u001b[43mcat_features\u001b[49m\u001b[43m,\u001b[49m\u001b[43m \u001b[49m\u001b[43mtext_features\u001b[49m\u001b[43m,\u001b[49m\u001b[43m \u001b[49m\u001b[43membedding_features\u001b[49m\u001b[43m,\u001b[49m\u001b[43m \u001b[49m\u001b[38;5;28;43;01mNone\u001b[39;49;00m\u001b[43m,\u001b[49m\u001b[43m \u001b[49m\u001b[43mgraph\u001b[49m\u001b[43m,\u001b[49m\u001b[43m \u001b[49m\u001b[43msample_weight\u001b[49m\u001b[43m,\u001b[49m\u001b[43m \u001b[49m\u001b[38;5;28;43;01mNone\u001b[39;49;00m\u001b[43m,\u001b[49m\u001b[43m \u001b[49m\u001b[38;5;28;43;01mNone\u001b[39;49;00m\u001b[43m,\u001b[49m\u001b[43m \u001b[49m\u001b[38;5;28;43;01mNone\u001b[39;49;00m\u001b[43m,\u001b[49m\u001b[43m \u001b[49m\u001b[38;5;28;43;01mNone\u001b[39;49;00m\u001b[43m,\u001b[49m\u001b[43m \u001b[49m\u001b[43mbaseline\u001b[49m\u001b[43m,\u001b[49m\u001b[43m \u001b[49m\u001b[43muse_best_model\u001b[49m\u001b[43m,\u001b[49m\n\u001b[0;32m   5246\u001b[0m \u001b[43m          \u001b[49m\u001b[43meval_set\u001b[49m\u001b[43m,\u001b[49m\u001b[43m \u001b[49m\u001b[43mverbose\u001b[49m\u001b[43m,\u001b[49m\u001b[43m \u001b[49m\u001b[43mlogging_level\u001b[49m\u001b[43m,\u001b[49m\u001b[43m \u001b[49m\u001b[43mplot\u001b[49m\u001b[43m,\u001b[49m\u001b[43m \u001b[49m\u001b[43mplot_file\u001b[49m\u001b[43m,\u001b[49m\u001b[43m \u001b[49m\u001b[43mcolumn_description\u001b[49m\u001b[43m,\u001b[49m\u001b[43m \u001b[49m\u001b[43mverbose_eval\u001b[49m\u001b[43m,\u001b[49m\u001b[43m \u001b[49m\u001b[43mmetric_period\u001b[49m\u001b[43m,\u001b[49m\n\u001b[0;32m   5247\u001b[0m \u001b[43m          \u001b[49m\u001b[43msilent\u001b[49m\u001b[43m,\u001b[49m\u001b[43m \u001b[49m\u001b[43mearly_stopping_rounds\u001b[49m\u001b[43m,\u001b[49m\u001b[43m \u001b[49m\u001b[43msave_snapshot\u001b[49m\u001b[43m,\u001b[49m\u001b[43m \u001b[49m\u001b[43msnapshot_file\u001b[49m\u001b[43m,\u001b[49m\u001b[43m \u001b[49m\u001b[43msnapshot_interval\u001b[49m\u001b[43m,\u001b[49m\u001b[43m \u001b[49m\u001b[43minit_model\u001b[49m\u001b[43m,\u001b[49m\u001b[43m \u001b[49m\u001b[43mcallbacks\u001b[49m\u001b[43m,\u001b[49m\u001b[43m \u001b[49m\u001b[43mlog_cout\u001b[49m\u001b[43m,\u001b[49m\u001b[43m \u001b[49m\u001b[43mlog_cerr\u001b[49m\u001b[43m)\u001b[49m\n\u001b[0;32m   5248\u001b[0m \u001b[38;5;28;01mreturn\u001b[39;00m \u001b[38;5;28mself\u001b[39m\n",
      "File \u001b[1;32mc:\\Users\\SSAFY\\Desktop\\personal\\DACON\\.venv\\lib\\site-packages\\catboost\\core.py:2410\u001b[0m, in \u001b[0;36mCatBoost._fit\u001b[1;34m(self, X, y, cat_features, text_features, embedding_features, pairs, graph, sample_weight, group_id, group_weight, subgroup_id, pairs_weight, baseline, use_best_model, eval_set, verbose, logging_level, plot, plot_file, column_description, verbose_eval, metric_period, silent, early_stopping_rounds, save_snapshot, snapshot_file, snapshot_interval, init_model, callbacks, log_cout, log_cerr)\u001b[0m\n\u001b[0;32m   2407\u001b[0m allow_clear_pool \u001b[38;5;241m=\u001b[39m train_params[\u001b[38;5;124m\"\u001b[39m\u001b[38;5;124mallow_clear_pool\u001b[39m\u001b[38;5;124m\"\u001b[39m]\n\u001b[0;32m   2409\u001b[0m \u001b[38;5;28;01mwith\u001b[39;00m plot_wrapper(plot, plot_file, \u001b[38;5;124m'\u001b[39m\u001b[38;5;124mTraining plots\u001b[39m\u001b[38;5;124m'\u001b[39m, [_get_train_dir(\u001b[38;5;28mself\u001b[39m\u001b[38;5;241m.\u001b[39mget_params())]):\n\u001b[1;32m-> 2410\u001b[0m     \u001b[38;5;28;43mself\u001b[39;49m\u001b[38;5;241;43m.\u001b[39;49m\u001b[43m_train\u001b[49m\u001b[43m(\u001b[49m\n\u001b[0;32m   2411\u001b[0m \u001b[43m        \u001b[49m\u001b[43mtrain_pool\u001b[49m\u001b[43m,\u001b[49m\n\u001b[0;32m   2412\u001b[0m \u001b[43m        \u001b[49m\u001b[43mtrain_params\u001b[49m\u001b[43m[\u001b[49m\u001b[38;5;124;43m\"\u001b[39;49m\u001b[38;5;124;43meval_sets\u001b[39;49m\u001b[38;5;124;43m\"\u001b[39;49m\u001b[43m]\u001b[49m\u001b[43m,\u001b[49m\n\u001b[0;32m   2413\u001b[0m \u001b[43m        \u001b[49m\u001b[43mparams\u001b[49m\u001b[43m,\u001b[49m\n\u001b[0;32m   2414\u001b[0m \u001b[43m        \u001b[49m\u001b[43mallow_clear_pool\u001b[49m\u001b[43m,\u001b[49m\n\u001b[0;32m   2415\u001b[0m \u001b[43m        \u001b[49m\u001b[43mtrain_params\u001b[49m\u001b[43m[\u001b[49m\u001b[38;5;124;43m\"\u001b[39;49m\u001b[38;5;124;43minit_model\u001b[39;49m\u001b[38;5;124;43m\"\u001b[39;49m\u001b[43m]\u001b[49m\n\u001b[0;32m   2416\u001b[0m \u001b[43m    \u001b[49m\u001b[43m)\u001b[49m\n\u001b[0;32m   2418\u001b[0m \u001b[38;5;66;03m# Have property feature_importance possibly set\u001b[39;00m\n\u001b[0;32m   2419\u001b[0m loss \u001b[38;5;241m=\u001b[39m \u001b[38;5;28mself\u001b[39m\u001b[38;5;241m.\u001b[39m_object\u001b[38;5;241m.\u001b[39m_get_loss_function_name()\n",
      "File \u001b[1;32mc:\\Users\\SSAFY\\Desktop\\personal\\DACON\\.venv\\lib\\site-packages\\catboost\\core.py:1790\u001b[0m, in \u001b[0;36m_CatBoostBase._train\u001b[1;34m(self, train_pool, test_pool, params, allow_clear_pool, init_model)\u001b[0m\n\u001b[0;32m   1789\u001b[0m \u001b[38;5;28;01mdef\u001b[39;00m\u001b[38;5;250m \u001b[39m\u001b[38;5;21m_train\u001b[39m(\u001b[38;5;28mself\u001b[39m, train_pool, test_pool, params, allow_clear_pool, init_model):\n\u001b[1;32m-> 1790\u001b[0m     \u001b[38;5;28;43mself\u001b[39;49m\u001b[38;5;241;43m.\u001b[39;49m\u001b[43m_object\u001b[49m\u001b[38;5;241;43m.\u001b[39;49m\u001b[43m_train\u001b[49m\u001b[43m(\u001b[49m\u001b[43mtrain_pool\u001b[49m\u001b[43m,\u001b[49m\u001b[43m \u001b[49m\u001b[43mtest_pool\u001b[49m\u001b[43m,\u001b[49m\u001b[43m \u001b[49m\u001b[43mparams\u001b[49m\u001b[43m,\u001b[49m\u001b[43m \u001b[49m\u001b[43mallow_clear_pool\u001b[49m\u001b[43m,\u001b[49m\u001b[43m \u001b[49m\u001b[43minit_model\u001b[49m\u001b[38;5;241;43m.\u001b[39;49m\u001b[43m_object\u001b[49m\u001b[43m \u001b[49m\u001b[38;5;28;43;01mif\u001b[39;49;00m\u001b[43m \u001b[49m\u001b[43minit_model\u001b[49m\u001b[43m \u001b[49m\u001b[38;5;28;43;01melse\u001b[39;49;00m\u001b[43m \u001b[49m\u001b[38;5;28;43;01mNone\u001b[39;49;00m\u001b[43m)\u001b[49m\n\u001b[0;32m   1791\u001b[0m     \u001b[38;5;28mself\u001b[39m\u001b[38;5;241m.\u001b[39m_set_trained_model_attributes()\n",
      "File \u001b[1;32m_catboost.pyx:5017\u001b[0m, in \u001b[0;36m_catboost._CatBoost._train\u001b[1;34m()\u001b[0m\n",
      "File \u001b[1;32m_catboost.pyx:5066\u001b[0m, in \u001b[0;36m_catboost._CatBoost._train\u001b[1;34m()\u001b[0m\n",
      "\u001b[1;31mKeyboardInterrupt\u001b[0m: "
     ]
    }
   ],
   "source": [
    "from sklearn.model_selection import StratifiedKFold\n",
    "from sklearn.metrics import f1_score\n",
    "\n",
    "skf = StratifiedKFold(n_splits=5, shuffle=True, random_state=42)\n",
    "f1_scores = []\n",
    "\n",
    "for train_idx, val_idx in skf.split(X, y):\n",
    "    X_train, X_val = X.iloc[train_idx], X.iloc[val_idx]\n",
    "    y_train, y_val = y.iloc[train_idx], y.iloc[val_idx]\n",
    "\n",
    "    model = CatBoostClassifier(\n",
    "        iterations=1000,\n",
    "        learning_rate=0.03,\n",
    "        depth=6,\n",
    "        eval_metric='MultiClass',  # or 'Accuracy'\n",
    "        custom_metric='F1',\n",
    "        cat_features=categorical_cols,\n",
    "        class_weights=class_weights,\n",
    "        verbose=0,\n",
    "        random_seed=42,\n",
    "        early_stopping_rounds=50\n",
    "    )\n",
    "\n",
    "    model.fit(X_train, y_train, eval_set=(X_val, y_val))\n",
    "    preds = model.predict(X_val)\n",
    "    score = f1_score(y_val, preds, average='macro')\n",
    "    f1_scores.append(score)\n",
    "\n",
    "print(\"평균 Macro F1 Score:\", np.mean(f1_scores))\n"
   ]
  },
  {
   "cell_type": "code",
   "execution_count": null,
   "id": "41d26dc2",
   "metadata": {},
   "outputs": [],
   "source": [
    "# 집가서\n",
    "\n",
    "import pandas as pd\n",
    "import optuna\n",
    "import joblib\n",
    "from catboost import CatBoostClassifier, Pool\n",
    "from sklearn.model_selection import train_test_split\n",
    "from sklearn.metrics import accuracy_score\n",
    "\n",
    "# 데이터 불러오기\n",
    "df = pd.read_csv('PCA_Data.csv')\n",
    "X = df.drop(columns=['Segment'])\n",
    "y = df['Segment']\n",
    "\n",
    "# 범주형 컬럼 자동 추출\n",
    "categorical_cols = X.select_dtypes(include='object').columns.tolist()\n",
    "\n",
    "# 학습/검증 분리\n",
    "X_train, X_val, y_train, y_val = train_test_split(X, y, test_size=0.2, random_state=42)\n",
    "\n",
    "# Optuna 목적 함수 정의\n",
    "def objective(trial):\n",
    "    params = {\n",
    "        'iterations': trial.suggest_int('iterations', 300, 1000),\n",
    "        'learning_rate': trial.suggest_float('learning_rate', 0.01, 0.3),\n",
    "        'depth': trial.suggest_int('depth', 4, 10),\n",
    "        'l2_leaf_reg': trial.suggest_float('l2_leaf_reg', 1.0, 10.0),\n",
    "        'random_seed': 42,\n",
    "        'task_type': 'GPU',        # GPU 사용\n",
    "        'devices': '0',\n",
    "        'loss_function': 'MultiClass',\n",
    "        'eval_metric': 'Accuracy',\n",
    "        'early_stopping_rounds': 50,\n",
    "        'verbose': 0\n",
    "    }\n",
    "\n",
    "    # Pool 객체로 학습\n",
    "    train_pool = Pool(X_train, y_train, cat_features=categorical_cols)\n",
    "    val_pool = Pool(X_val, y_val, cat_features=categorical_cols)\n",
    "\n",
    "    model = CatBoostClassifier(**params)\n",
    "    model.fit(train_pool, eval_set=val_pool, use_best_model=True)\n",
    "\n",
    "    preds = model.predict(X_val)\n",
    "    acc = accuracy_score(y_val, preds)\n",
    "\n",
    "    return acc\n",
    "\n",
    "# Optuna 튜닝\n",
    "study = optuna.create_study(direction='maximize')\n",
    "study.optimize(objective, n_trials=30)\n",
    "\n",
    "# 최적 하이퍼파라미터로 모델 재학습\n",
    "best_params = study.best_params\n",
    "best_params.update({\n",
    "    'task_type': 'GPU',\n",
    "    'devices': '0',\n",
    "    'loss_function': 'MultiClass',\n",
    "    'eval_metric': 'Accuracy',\n",
    "    'early_stopping_rounds': 50,\n",
    "    'random_seed': 42,\n",
    "    'verbose': 100\n",
    "})\n",
    "\n",
    "final_pool = Pool(X, y, cat_features=categorical_cols)\n",
    "final_model = CatBoostClassifier(**best_params)\n",
    "final_model.fit(final_pool)\n",
    "\n",
    "# 모델 및 관련 정보 저장\n",
    "joblib.dump(final_model, 'best_catboost_model.pkl')\n",
    "joblib.dump(categorical_cols, 'cat_features.pkl')\n",
    "joblib.dump(best_params, 'best_params.pkl')\n",
    "\n",
    "print(\"최적 하이퍼파라미터:\", study.best_params)\n",
    "print(\"모델, 범주형 컬럼, 파라미터 저장 완료.\")\n"
   ]
  }
 ],
 "metadata": {
  "kernelspec": {
   "display_name": ".venv",
   "language": "python",
   "name": "python3"
  },
  "language_info": {
   "codemirror_mode": {
    "name": "ipython",
    "version": 3
   },
   "file_extension": ".py",
   "mimetype": "text/x-python",
   "name": "python",
   "nbconvert_exporter": "python",
   "pygments_lexer": "ipython3",
   "version": "3.9.13"
  }
 },
 "nbformat": 4,
 "nbformat_minor": 5
}
