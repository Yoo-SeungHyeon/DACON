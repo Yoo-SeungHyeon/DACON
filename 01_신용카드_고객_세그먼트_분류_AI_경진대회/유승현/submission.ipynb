{
 "cells": [
  {
   "cell_type": "markdown",
   "metadata": {},
   "source": [
    "# 제출용 submission 만드는 노트"
   ]
  },
  {
   "cell_type": "markdown",
   "metadata": {},
   "source": [
    "## 테스트용 데이터셋 불러오기"
   ]
  },
  {
   "cell_type": "code",
   "execution_count": 1,
   "metadata": {},
   "outputs": [],
   "source": [
    "# 사용한 변수 목록\n",
    "import joblib\n",
    "\n",
    "important_features = joblib.load('important_features.pkl')"
   ]
  },
  {
   "cell_type": "code",
   "execution_count": 3,
   "metadata": {},
   "outputs": [
    {
     "name": "stderr",
     "output_type": "stream",
     "text": [
      "C:\\Users\\SSAFY\\AppData\\Local\\Temp\\ipykernel_18588\\228972880.py:3: DtypeWarning: Columns (299) have mixed types. Specify dtype option on import or set low_memory=False.\n",
      "  test_df = pd.read_csv('../data/all_test.csv')\n"
     ]
    },
    {
     "name": "stdout",
     "output_type": "stream",
     "text": [
      "데이터셋 로드 완료.\n",
      "독립변수 준비 완료\n"
     ]
    }
   ],
   "source": [
    "import pandas as pd\n",
    "\n",
    "test_df = pd.read_csv('../data/all_test.csv')\n",
    "print(\"데이터셋 로드 완료.\")\n",
    "\n",
    "# 독립변수 전처리\n",
    "X_test = test_df[['Unnamed: 0'] + important_features]\n",
    "print(\"독립변수 준비 완료\")"
   ]
  },
  {
   "cell_type": "markdown",
   "metadata": {},
   "source": [
    "## 모델 불러오기"
   ]
  },
  {
   "cell_type": "code",
   "execution_count": 4,
   "metadata": {},
   "outputs": [
    {
     "name": "stdout",
     "output_type": "stream",
     "text": [
      "모델 로드 완료.\n"
     ]
    }
   ],
   "source": [
    "import joblib\n",
    "\n",
    "model = joblib.load(\"xgboost2_depth13_f10.8302.joblib\")\n",
    "print(\"모델 로드 완료.\")"
   ]
  },
  {
   "cell_type": "markdown",
   "metadata": {},
   "source": [
    "## 인코딩, 스케일링 불러오기"
   ]
  },
  {
   "cell_type": "code",
   "execution_count": 5,
   "metadata": {},
   "outputs": [],
   "source": [
    "# 인코더 불러오기\n",
    "le_target = joblib.load(\"label_encoder2.joblib\")"
   ]
  },
  {
   "cell_type": "code",
   "execution_count": 7,
   "metadata": {},
   "outputs": [],
   "source": [
    "# 스케일러 불러오기\n",
    "scaler = joblib.load(\"scaler2.joblib\")\n",
    "\n",
    "# 독립변수 스케일링\n",
    "X_test_scaled = scaler.transform(X_test)"
   ]
  },
  {
   "cell_type": "code",
   "execution_count": 8,
   "metadata": {},
   "outputs": [
    {
     "name": "stdout",
     "output_type": "stream",
     "text": [
      "제출 파일 xgboost_d13.csv 저장 완료\n"
     ]
    }
   ],
   "source": [
    "# 모델 예측\n",
    "y_test_pred = model.predict(X_test_scaled)\n",
    "\n",
    "# 예측 결과를 원래 레이블로 복원\n",
    "y_test_pred_labels = le_target.inverse_transform(y_test_pred)\n",
    "\n",
    "# 제출 파일 생성성\n",
    "test_data = test_df.copy()\n",
    "test_data[\"pred_label\"] = y_test_pred_labels\n",
    "\n",
    "# ID별로 가장 빈도수가 높은 예측값 선택 (필요한 경우 그룹화 기준 확인)\n",
    "submission = test_data.groupby(\"ID\")[\"pred_label\"].agg(lambda x: x.value_counts().idxmax()).reset_index()\n",
    "submission.columns = [\"ID\", \"Segment\"]\n",
    "\n",
    "# 제출 파일을 xgboost_d10.csv로 저장\n",
    "submission.to_csv(\"xgboost_d13.csv\", index=False)\n",
    "print(\"제출 파일 xgboost_d13.csv 저장 완료\")\n"
   ]
  }
 ],
 "metadata": {
  "kernelspec": {
   "display_name": ".venv",
   "language": "python",
   "name": "python3"
  },
  "language_info": {
   "codemirror_mode": {
    "name": "ipython",
    "version": 3
   },
   "file_extension": ".py",
   "mimetype": "text/x-python",
   "name": "python",
   "nbconvert_exporter": "python",
   "pygments_lexer": "ipython3",
   "version": "3.9.13"
  }
 },
 "nbformat": 4,
 "nbformat_minor": 2
}
